{
 "cells": [
  {
   "cell_type": "markdown",
   "metadata": {},
   "source": [
    "# Text Processing\n",
    "\n",
    "## Capturing Text Data\n",
    "\n",
    "### Plain Text"
   ]
  },
  {
   "cell_type": "code",
   "execution_count": 1,
   "metadata": {},
   "outputs": [
    {
     "name": "stdout",
     "output_type": "stream",
     "text": [
      "Hieroglyphic writing dates from c. 3000 BC, and is composed of hundreds of symbols. A hieroglyph can represent a word, a sound, or a silent determinative; and the same symbol can serve different purposes in different contexts. Hieroglyphs were a formal script, used on stone monuments and in tombs, that could be as detailed as individual works of art.\n",
      "\n"
     ]
    }
   ],
   "source": [
    "import os\n",
    "\n",
    "# Read in a plain text file\n",
    "with open(os.path.join(\"data\", \"hieroglyph.txt\"), \"r\") as f:\n",
    "    text = f.read()\n",
    "    print(text)"
   ]
  },
  {
   "cell_type": "markdown",
   "metadata": {},
   "source": [
    "### Tabular Data"
   ]
  },
  {
   "cell_type": "code",
   "execution_count": 4,
   "metadata": {
    "scrolled": true
   },
   "outputs": [
    {
     "data": {
      "text/html": [
       "<div>\n",
       "<style scoped>\n",
       "    .dataframe tbody tr th:only-of-type {\n",
       "        vertical-align: middle;\n",
       "    }\n",
       "\n",
       "    .dataframe tbody tr th {\n",
       "        vertical-align: top;\n",
       "    }\n",
       "\n",
       "    .dataframe thead th {\n",
       "        text-align: right;\n",
       "    }\n",
       "</style>\n",
       "<table border=\"1\" class=\"dataframe\">\n",
       "  <thead>\n",
       "    <tr style=\"text-align: right;\">\n",
       "      <th></th>\n",
       "      <th>publisher</th>\n",
       "      <th>title</th>\n",
       "    </tr>\n",
       "  </thead>\n",
       "  <tbody>\n",
       "    <tr>\n",
       "      <th>0</th>\n",
       "      <td>Livemint</td>\n",
       "      <td>fed's charles plosser sees high bar for change...</td>\n",
       "    </tr>\n",
       "    <tr>\n",
       "      <th>1</th>\n",
       "      <td>IFA Magazine</td>\n",
       "      <td>us open: stocks fall after fed official hints ...</td>\n",
       "    </tr>\n",
       "    <tr>\n",
       "      <th>2</th>\n",
       "      <td>IFA Magazine</td>\n",
       "      <td>fed risks falling 'behind the curve', charles ...</td>\n",
       "    </tr>\n",
       "    <tr>\n",
       "      <th>3</th>\n",
       "      <td>Moneynews</td>\n",
       "      <td>fed's plosser: nasty weather has curbed job gr...</td>\n",
       "    </tr>\n",
       "    <tr>\n",
       "      <th>4</th>\n",
       "      <td>NASDAQ</td>\n",
       "      <td>plosser: fed may have to accelerate tapering pace</td>\n",
       "    </tr>\n",
       "  </tbody>\n",
       "</table>\n",
       "</div>"
      ],
      "text/plain": [
       "      publisher                                              title\n",
       "0      Livemint  fed's charles plosser sees high bar for change...\n",
       "1  IFA Magazine  us open: stocks fall after fed official hints ...\n",
       "2  IFA Magazine  fed risks falling 'behind the curve', charles ...\n",
       "3     Moneynews  fed's plosser: nasty weather has curbed job gr...\n",
       "4        NASDAQ  plosser: fed may have to accelerate tapering pace"
      ]
     },
     "execution_count": 4,
     "metadata": {},
     "output_type": "execute_result"
    }
   ],
   "source": [
    "import pandas as pd\n",
    "\n",
    "# Extract text column from a dataframe\n",
    "df = pd.read_csv(os.path.join(\"data\", \"news.csv\"))\n",
    "df.head()[['publisher', 'title']]\n",
    "\n",
    "# Convert text column to lowercase\n",
    "df['title'] = df['title'].str.lower()\n",
    "df.head()[['publisher', 'title']]"
   ]
  },
  {
   "cell_type": "code",
   "execution_count": 2,
   "metadata": {},
   "outputs": [
    {
     "data": {
      "text/plain": [
       "<module 'posixpath' from '/opt/conda/lib/python3.6/posixpath.py'>"
      ]
     },
     "execution_count": 2,
     "metadata": {},
     "output_type": "execute_result"
    }
   ],
   "source": [
    "os.path"
   ]
  },
  {
   "cell_type": "code",
   "execution_count": 3,
   "metadata": {},
   "outputs": [
    {
     "data": {
      "text/plain": [
       "'data/news.csv'"
      ]
     },
     "execution_count": 3,
     "metadata": {},
     "output_type": "execute_result"
    }
   ],
   "source": [
    "os.path.join(\"data\", \"news.csv\")"
   ]
  },
  {
   "cell_type": "code",
   "execution_count": 5,
   "metadata": {},
   "outputs": [
    {
     "data": {
      "text/html": [
       "<div>\n",
       "<style scoped>\n",
       "    .dataframe tbody tr th:only-of-type {\n",
       "        vertical-align: middle;\n",
       "    }\n",
       "\n",
       "    .dataframe tbody tr th {\n",
       "        vertical-align: top;\n",
       "    }\n",
       "\n",
       "    .dataframe thead th {\n",
       "        text-align: right;\n",
       "    }\n",
       "</style>\n",
       "<table border=\"1\" class=\"dataframe\">\n",
       "  <thead>\n",
       "    <tr style=\"text-align: right;\">\n",
       "      <th></th>\n",
       "      <th>id</th>\n",
       "      <th>title</th>\n",
       "      <th>url</th>\n",
       "      <th>publisher</th>\n",
       "      <th>category</th>\n",
       "      <th>story</th>\n",
       "      <th>hostname</th>\n",
       "      <th>timestamp</th>\n",
       "    </tr>\n",
       "  </thead>\n",
       "  <tbody>\n",
       "    <tr>\n",
       "      <th>0</th>\n",
       "      <td>2</td>\n",
       "      <td>fed's charles plosser sees high bar for change...</td>\n",
       "      <td>http://www.livemint.com/Politics/H2EvwJSK2VE6O...</td>\n",
       "      <td>Livemint</td>\n",
       "      <td>b</td>\n",
       "      <td>ddUyU0VZz0BRneMioxUPQVP6sIxvM</td>\n",
       "      <td>www.livemint.com</td>\n",
       "      <td>1394470371207</td>\n",
       "    </tr>\n",
       "    <tr>\n",
       "      <th>1</th>\n",
       "      <td>3</td>\n",
       "      <td>us open: stocks fall after fed official hints ...</td>\n",
       "      <td>http://www.ifamagazine.com/news/us-open-stocks...</td>\n",
       "      <td>IFA Magazine</td>\n",
       "      <td>b</td>\n",
       "      <td>ddUyU0VZz0BRneMioxUPQVP6sIxvM</td>\n",
       "      <td>www.ifamagazine.com</td>\n",
       "      <td>1394470371550</td>\n",
       "    </tr>\n",
       "    <tr>\n",
       "      <th>2</th>\n",
       "      <td>4</td>\n",
       "      <td>fed risks falling 'behind the curve', charles ...</td>\n",
       "      <td>http://www.ifamagazine.com/news/fed-risks-fall...</td>\n",
       "      <td>IFA Magazine</td>\n",
       "      <td>b</td>\n",
       "      <td>ddUyU0VZz0BRneMioxUPQVP6sIxvM</td>\n",
       "      <td>www.ifamagazine.com</td>\n",
       "      <td>1394470371793</td>\n",
       "    </tr>\n",
       "  </tbody>\n",
       "</table>\n",
       "</div>"
      ],
      "text/plain": [
       "   id                                              title  \\\n",
       "0   2  fed's charles plosser sees high bar for change...   \n",
       "1   3  us open: stocks fall after fed official hints ...   \n",
       "2   4  fed risks falling 'behind the curve', charles ...   \n",
       "\n",
       "                                                 url     publisher category  \\\n",
       "0  http://www.livemint.com/Politics/H2EvwJSK2VE6O...      Livemint        b   \n",
       "1  http://www.ifamagazine.com/news/us-open-stocks...  IFA Magazine        b   \n",
       "2  http://www.ifamagazine.com/news/fed-risks-fall...  IFA Magazine        b   \n",
       "\n",
       "                           story             hostname      timestamp  \n",
       "0  ddUyU0VZz0BRneMioxUPQVP6sIxvM     www.livemint.com  1394470371207  \n",
       "1  ddUyU0VZz0BRneMioxUPQVP6sIxvM  www.ifamagazine.com  1394470371550  \n",
       "2  ddUyU0VZz0BRneMioxUPQVP6sIxvM  www.ifamagazine.com  1394470371793  "
      ]
     },
     "execution_count": 5,
     "metadata": {},
     "output_type": "execute_result"
    }
   ],
   "source": [
    "df.head(3)"
   ]
  },
  {
   "cell_type": "markdown",
   "metadata": {},
   "source": [
    "### Online Resource"
   ]
  },
  {
   "cell_type": "code",
   "execution_count": 6,
   "metadata": {
    "scrolled": true
   },
   "outputs": [
    {
     "name": "stdout",
     "output_type": "stream",
     "text": [
      "{\n",
      "    \"success\": {\n",
      "        \"total\": 1\n",
      "    },\n",
      "    \"contents\": {\n",
      "        \"quotes\": [\n",
      "            {\n",
      "                \"quote\": \"People rise to the occasion without hesitation when they feel inspired and challenged.\",\n",
      "                \"length\": \"86\",\n",
      "                \"author\": \"Lorii Myers\",\n",
      "                \"tags\": [\n",
      "                    \"challenged\",\n",
      "                    \"inspire\",\n",
      "                    \"management\",\n",
      "                    \"rise-to-occasion\"\n",
      "                ],\n",
      "                \"category\": \"inspire\",\n",
      "                \"language\": \"en\",\n",
      "                \"date\": \"2020-12-03\",\n",
      "                \"permalink\": \"https://theysaidso.com/quote/lorii-myers-people-rise-to-the-occasion-without-hesitation-when-they-feel-inspir\",\n",
      "                \"id\": \"CKL8U_u988L_LJx3ah_KqQeF\",\n",
      "                \"background\": \"https://theysaidso.com/img/qod/qod-inspire.jpg\",\n",
      "                \"title\": \"Inspiring Quote of the day\"\n",
      "            }\n",
      "        ]\n",
      "    },\n",
      "    \"baseurl\": \"https://theysaidso.com\",\n",
      "    \"copyright\": {\n",
      "        \"year\": 2022,\n",
      "        \"url\": \"https://theysaidso.com\"\n",
      "    }\n",
      "}\n",
      "People rise to the occasion without hesitation when they feel inspired and challenged. \n",
      "-- Lorii Myers\n"
     ]
    }
   ],
   "source": [
    "import requests\n",
    "import json\n",
    "\n",
    "# Fetch data from a REST API\n",
    "r = requests.get(\n",
    "    \"https://quotes.rest/qod.json\")\n",
    "res = r.json()\n",
    "print(json.dumps(res, indent=4))\n",
    "\n",
    "# Extract relevant object and field\n",
    "q = res[\"contents\"][\"quotes\"][0]\n",
    "print(q[\"quote\"], \"\\n--\", q[\"author\"])"
   ]
  },
  {
   "cell_type": "markdown",
   "metadata": {},
   "source": [
    "## Cleaning"
   ]
  },
  {
   "cell_type": "code",
   "execution_count": 7,
   "metadata": {
    "scrolled": true
   },
   "outputs": [
    {
     "name": "stdout",
     "output_type": "stream",
     "text": [
      "<html lang=\"en\" op=\"news\"><head><meta name=\"referrer\" content=\"origin\"><meta name=\"viewport\" content=\"width=device-width, initial-scale=1.0\"><link rel=\"stylesheet\" type=\"text/css\" href=\"news.css?jQhI4QM59GzYU3FIHxj3\">\n",
      "        <link rel=\"shortcut icon\" href=\"favicon.ico\">\n",
      "          <link rel=\"alternate\" type=\"application/rss+xml\" title=\"RSS\" href=\"rss\">\n",
      "        <title>Hacker News</title></head><body><center><table id=\"hnmain\" border=\"0\" cellpadding=\"0\" cellspacing=\"0\" width=\"85%\" bgcolor=\"#f6f6ef\">\n",
      "        <tr><td bgcolor=\"#ff6600\"><table border=\"0\" cellpadding=\"0\" cellspacing=\"0\" width=\"100%\" style=\"padding:2px\"><tr><td style=\"width:18px;padding-right:4px\"><a href=\"https://news.ycombinator.com\"><img src=\"y18.gif\" width=\"18\" height=\"18\" style=\"border:1px white solid;\"></a></td>\n",
      "                  <td style=\"line-height:12pt; height:10px;\"><span class=\"pagetop\"><b class=\"hnname\"><a href=\"news\">Hacker News</a></b>\n",
      "              <a href=\"newest\">new</a> | <a href=\"front\">past</a> | <a href=\"newcomments\">comments</a> | <a href=\"ask\">ask</a> | <a href=\"show\">show</a> | <a href=\"jobs\">jobs</a> | <a href=\"submit\">submit</a>            </span></td><td style=\"text-align:right;padding-right:4px;\"><span class=\"pagetop\">\n",
      "                              <a href=\"login?goto=news\">login</a>\n",
      "                          </span></td>\n",
      "              </tr></table></td></tr>\n",
      "<tr id=\"pagespace\" title=\"\" style=\"height:10px\"></tr><tr><td><table border=\"0\" cellpadding=\"0\" cellspacing=\"0\" class=\"itemlist\">\n",
      "              <tr class='athing' id='25289626'>\n",
      "      <td align=\"right\" valign=\"top\" class=\"title\"><span class=\"rank\">1.</span></td>      <td valign=\"top\" class=\"votelinks\"><center><a id='up_25289626' href='vote?id=25289626&amp;how=up&amp;goto=news'><div class='votearrow' title='upvote'></div></a></center></td><td class=\"title\"><a href=\"https://stripe.com/treasury\" class=\"storylink\">Stripe Treasury</a><span class=\"sitebit comhead\"> (<a href=\"from?site=stripe.com\"><span class=\"sitestr\">stripe.com</span></a>)</span></td></tr><tr><td colspan=\"2\"></td><td class=\"subtext\">\n",
      "        <span class=\"score\" id=\"score_25289626\">300 points</span> by <a href=\"user?id=timf\" class=\"hnuser\">timf</a> <span class=\"age\"><a href=\"item?id=25289626\">2 hours ago</a></span> <span id=\"unv_25289626\"></span> | <a href=\"hide?id=25289626&amp;goto=news\">hide</a> | <a href=\"item?id=25289626\">92&nbsp;comments</a>              </td></tr>\n",
      "      <tr class=\"spacer\" style=\"height:5px\"></tr>\n",
      "                <tr class='athing' id='25289335'>\n",
      "      <td align=\"right\" valign=\"top\" class=\"title\"><span class=\"rank\">2.</span></td>      <td valign=\"top\" class=\"votelinks\"><center><a id='up_25289335' href='vote?id=25289335&amp;how=up&amp;goto=news'><div class='votearrow' title='upvote'></div></a></center></td><td class=\"title\"><a href=\"https://www.reuters.com/article/cryptocurrencies-sp/sp-dow-jones-indices-to-launch-cryptocurrency-indexes-in-2021-idUSL1N2IJ0TG\" class=\"storylink\">S&P Dow Jones Indices to launch cryptocurrency indexes in 2021</a><span class=\"sitebit comhead\"> (<a href=\"from?site=reuters.com\"><span class=\"sitestr\">reuters.com</span></a>)</span></td></tr><tr><td colspan=\"2\"></td><td class=\"subtext\">\n",
      "        <span class=\"score\" id=\"score_25289335\">223 points</span> by <a href=\"user?id=awb\" class=\"hnuser\">awb</a> <span class=\"age\"><a href=\"item?id=25289335\">3 hours ago</a></span> <span id=\"unv_25289335\"></span> | <a href=\"hide?id=25289335&amp;goto=news\">hide</a> | <a href=\"item?id=25289335\">173&nbsp;comments</a>              </td></tr>\n",
      "      <tr class=\"spacer\" style=\"height:5px\"></tr>\n",
      "                <tr class='athing' id='25290118'>\n",
      "      <td align=\"right\" valign=\"top\" class=\"title\"><span class=\"rank\">3.</span></td>      <td valign=\"top\" class=\"votelinks\"><center><a id='up_25290118' href='vote?id=25290118&amp;how=up&amp;goto=news'><div class='votearrow' title='upvote'></div></a></center></td><td class=\"title\"><a href=\"https://danluu.com/input-lag/\" class=\"storylink\">Computer input latency from 1977-2017 (2017)</a><span class=\"sitebit comhead\"> (<a href=\"from?site=danluu.com\"><span class=\"sitestr\">danluu.com</span></a>)</span></td></tr><tr><td colspan=\"2\"></td><td class=\"subtext\">\n",
      "        <span class=\"score\" id=\"score_25290118\">133 points</span> by <a href=\"user?id=thesephist\" class=\"hnuser\">thesephist</a> <span class=\"age\"><a href=\"item?id=25290118\">2 hours ago</a></span> <span id=\"unv_25290118\"></span> | <a href=\"hide?id=25290118&amp;goto=news\">hide</a> | <a href=\"item?id=25290118\">55&nbsp;comments</a>              </td></tr>\n",
      "      <tr class=\"spacer\" style=\"height:5px\"></tr>\n",
      "                <tr class='athing' id='25290629'>\n",
      "      <td align=\"right\" valign=\"top\" class=\"title\"><span class=\"rank\">4.</span></td>      <td valign=\"top\" class=\"votelinks\"><center><a id='up_25290629' href='vote?id=25290629&amp;how=up&amp;goto=news'><div class='votearrow' title='upvote'></div></a></center></td><td class=\"title\"><a href=\"https://www.nsf.gov/news/special_reports/arecibo/\" class=\"storylink\">Drone Footage of Arecibo Observatory Collapse</a><span class=\"sitebit comhead\"> (<a href=\"from?site=nsf.gov\"><span class=\"sitestr\">nsf.gov</span></a>)</span></td></tr><tr><td colspan=\"2\"></td><td class=\"subtext\">\n",
      "        <span class=\"score\" id=\"score_25290629\">120 points</span> by <a href=\"user?id=uptown\" class=\"hnuser\">uptown</a> <span class=\"age\"><a href=\"item?id=25290629\">1 hour ago</a></span> <span id=\"unv_25290629\"></span> | <a href=\"hide?id=25290629&amp;goto=news\">hide</a> | <a href=\"item?id=25290629\">29&nbsp;comments</a>              </td></tr>\n",
      "      <tr class=\"spacer\" style=\"height:5px\"></tr>\n",
      "                <tr class='athing' id='25289152'>\n",
      "      <td align=\"right\" valign=\"top\" class=\"title\"><span class=\"rank\">5.</span></td>      <td valign=\"top\" class=\"votelinks\"><center><a id='up_25289152' href='vote?id=25289152&amp;how=up&amp;goto=news'><div class='votearrow' title='upvote'></div></a></center></td><td class=\"title\"><a href=\"https://acloudguru.com/blog/business/aws-just-went-multi-cloud-and-its-only-the-beginning\" class=\"storylink\">AWS just went multi-cloud and it's only the beginning – A Cloud Guru</a><span class=\"sitebit comhead\"> (<a href=\"from?site=acloudguru.com\"><span class=\"sitestr\">acloudguru.com</span></a>)</span></td></tr><tr><td colspan=\"2\"></td><td class=\"subtext\">\n",
      "        <span class=\"score\" id=\"score_25289152\">114 points</span> by <a href=\"user?id=dwardu\" class=\"hnuser\">dwardu</a> <span class=\"age\"><a href=\"item?id=25289152\">3 hours ago</a></span> <span id=\"unv_25289152\"></span> | <a href=\"hide?id=25289152&amp;goto=news\">hide</a> | <a href=\"item?id=25289152\">72&nbsp;comments</a>              </td></tr>\n",
      "      <tr class=\"spacer\" style=\"height:5px\"></tr>\n",
      "                <tr class='athing' id='25263083'>\n",
      "      <td align=\"right\" valign=\"top\" class=\"title\"><span class=\"rank\">6.</span></td>      <td valign=\"top\" class=\"votelinks\"><center><a id='up_25263083' href='vote?id=25263083&amp;how=up&amp;goto=news'><div class='votearrow' title='upvote'></div></a></center></td><td class=\"title\"><a href=\"https://www.who.int/news/item/09-11-2020-trial-results-reveal-that-long-acting-injectable-cabotegravir-as-prep-is-highly-effective-in-preventing-hiv-acquisition-in-women\" class=\"storylink\">Long-acting injectable is effective in preventing HIV acquisition in women</a><span class=\"sitebit comhead\"> (<a href=\"from?site=who.int\"><span class=\"sitestr\">who.int</span></a>)</span></td></tr><tr><td colspan=\"2\"></td><td class=\"subtext\">\n",
      "        <span class=\"score\" id=\"score_25263083\">73 points</span> by <a href=\"user?id=_Microft\" class=\"hnuser\">_Microft</a> <span class=\"age\"><a href=\"item?id=25263083\">3 hours ago</a></span> <span id=\"unv_25263083\"></span> | <a href=\"hide?id=25263083&amp;goto=news\">hide</a> | <a href=\"item?id=25263083\">7&nbsp;comments</a>              </td></tr>\n",
      "      <tr class=\"spacer\" style=\"height:5px\"></tr>\n",
      "                <tr class='athing' id='25290339'>\n",
      "      <td align=\"right\" valign=\"top\" class=\"title\"><span class=\"rank\">7.</span></td>      <td valign=\"top\" class=\"votelinks\"><center><a id='up_25290339' href='vote?id=25290339&amp;how=up&amp;goto=news'><div class='votearrow' title='upvote'></div></a></center></td><td class=\"title\"><a href=\"https://gnuhost.medium.com/stored-procedures-as-a-backend-c5d2db452fc2\" class=\"storylink\">Stored Procedures as a Back End</a><span class=\"sitebit comhead\"> (<a href=\"from?site=gnuhost.medium.com\"><span class=\"sitestr\">gnuhost.medium.com</span></a>)</span></td></tr><tr><td colspan=\"2\"></td><td class=\"subtext\">\n",
      "        <span class=\"score\" id=\"score_25290339\">48 points</span> by <a href=\"user?id=steve-chavez\" class=\"hnuser\">steve-chavez</a> <span class=\"age\"><a href=\"item?id=25290339\">1 hour ago</a></span> <span id=\"unv_25290339\"></span> | <a href=\"hide?id=25290339&amp;goto=news\">hide</a> | <a href=\"item?id=25290339\">30&nbsp;comments</a>              </td></tr>\n",
      "      <tr class=\"spacer\" style=\"height:5px\"></tr>\n",
      "                <tr class='athing' id='25291108'>\n",
      "      <td align=\"right\" valign=\"top\" class=\"title\"><span class=\"rank\">8.</span></td>      <td></td><td class=\"title\"><a href=\"https://onesignal.com/careers/90cfa84c-5d78-47e8-a3f3-5cbaddd0ca89\" class=\"storylink\" rel=\"nofollow\">OneSignal is hiring a Back end Engineer interested in writing in Go and Rust</a><span class=\"sitebit comhead\"> (<a href=\"from?site=onesignal.com\"><span class=\"sitestr\">onesignal.com</span></a>)</span></td></tr><tr><td colspan=\"2\"></td><td class=\"subtext\">\n",
      "        <span class=\"age\"><a href=\"item?id=25291108\">1 hour ago</a></span> | <a href=\"hide?id=25291108&amp;goto=news\">hide</a>      </td></tr>\n",
      "      <tr class=\"spacer\" style=\"height:5px\"></tr>\n",
      "                <tr class='athing' id='25289893'>\n",
      "      <td align=\"right\" valign=\"top\" class=\"title\"><span class=\"rank\">9.</span></td>      <td valign=\"top\" class=\"votelinks\"><center><a id='up_25289893' href='vote?id=25289893&amp;how=up&amp;goto=news'><div class='votearrow' title='upvote'></div></a></center></td><td class=\"title\"><a href=\"https://www.npr.org/2020/11/30/940196997/amazon-reportedly-has-pinkerton-agents-surveil-workers-who-try-to-form-unions\" class=\"storylink\">Amazon reportedly has Pinkerton agents surveil workers who try to form unions</a><span class=\"sitebit comhead\"> (<a href=\"from?site=npr.org\"><span class=\"sitestr\">npr.org</span></a>)</span></td></tr><tr><td colspan=\"2\"></td><td class=\"subtext\">\n",
      "        <span class=\"score\" id=\"score_25289893\">466 points</span> by <a href=\"user?id=pdkl95\" class=\"hnuser\">pdkl95</a> <span class=\"age\"><a href=\"item?id=25289893\">2 hours ago</a></span> <span id=\"unv_25289893\"></span> | <a href=\"hide?id=25289893&amp;goto=news\">hide</a> | <a href=\"item?id=25289893\">234&nbsp;comments</a>              </td></tr>\n",
      "      <tr class=\"spacer\" style=\"height:5px\"></tr>\n",
      "                <tr class='athing' id='25290359'>\n",
      "      <td align=\"right\" valign=\"top\" class=\"title\"><span class=\"rank\">10.</span></td>      <td valign=\"top\" class=\"votelinks\"><center><a id='up_25290359' href='vote?id=25290359&amp;how=up&amp;goto=news'><div class='votearrow' title='upvote'></div></a></center></td><td class=\"title\"><a href=\"https://docs.unrealengine.com/en-US/WhatsNew/Builds/ReleaseNotes/4_26/index.html\" class=\"storylink\">Unreal Engine 4.26 now available</a><span class=\"sitebit comhead\"> (<a href=\"from?site=unrealengine.com\"><span class=\"sitestr\">unrealengine.com</span></a>)</span></td></tr><tr><td colspan=\"2\"></td><td class=\"subtext\">\n",
      "        <span class=\"score\" id=\"score_25290359\">41 points</span> by <a href=\"user?id=dagmx\" class=\"hnuser\">dagmx</a> <span class=\"age\"><a href=\"item?id=25290359\">1 hour ago</a></span> <span id=\"unv_25290359\"></span> | <a href=\"hide?id=25290359&amp;goto=news\">hide</a> | <a href=\"item?id=25290359\">34&nbsp;comments</a>              </td></tr>\n",
      "      <tr class=\"spacer\" style=\"height:5px\"></tr>\n",
      "                <tr class='athing' id='25290124'>\n",
      "      <td align=\"right\" valign=\"top\" class=\"title\"><span class=\"rank\">11.</span></td>      <td valign=\"top\" class=\"votelinks\"><center><a id='up_25290124' href='vote?id=25290124&amp;how=up&amp;goto=news'><div class='votearrow' title='upvote'></div></a></center></td><td class=\"title\"><a href=\"https://www.vice.com/en/article/epdv3j/colombia-is-considering-legalizing-its-massive-cocaine-industry\" class=\"storylink\">Colombia is considering legalizing its cocaine industry</a><span class=\"sitebit comhead\"> (<a href=\"from?site=vice.com\"><span class=\"sitestr\">vice.com</span></a>)</span></td></tr><tr><td colspan=\"2\"></td><td class=\"subtext\">\n",
      "        <span class=\"score\" id=\"score_25290124\">208 points</span> by <a href=\"user?id=prostoalex\" class=\"hnuser\">prostoalex</a> <span class=\"age\"><a href=\"item?id=25290124\">2 hours ago</a></span> <span id=\"unv_25290124\"></span> | <a href=\"hide?id=25290124&amp;goto=news\">hide</a> | <a href=\"item?id=25290124\">160&nbsp;comments</a>              </td></tr>\n",
      "      <tr class=\"spacer\" style=\"height:5px\"></tr>\n",
      "                <tr class='athing' id='25290818'>\n",
      "      <td align=\"right\" valign=\"top\" class=\"title\"><span class=\"rank\">12.</span></td>      <td valign=\"top\" class=\"votelinks\"><center><a id='up_25290818' href='vote?id=25290818&amp;how=up&amp;goto=news'><div class='votearrow' title='upvote'></div></a></center></td><td class=\"title\"><a href=\"https://cfsamson.github.io/books-futures-explained/introduction.html\" class=\"storylink\">Futures explained in 200 lines of Rust</a><span class=\"sitebit comhead\"> (<a href=\"from?site=cfsamson.github.io\"><span class=\"sitestr\">cfsamson.github.io</span></a>)</span></td></tr><tr><td colspan=\"2\"></td><td class=\"subtext\">\n",
      "        <span class=\"score\" id=\"score_25290818\">25 points</span> by <a href=\"user?id=fanf2\" class=\"hnuser\">fanf2</a> <span class=\"age\"><a href=\"item?id=25290818\">1 hour ago</a></span> <span id=\"unv_25290818\"></span> | <a href=\"hide?id=25290818&amp;goto=news\">hide</a> | <a href=\"item?id=25290818\">2&nbsp;comments</a>              </td></tr>\n",
      "      <tr class=\"spacer\" style=\"height:5px\"></tr>\n",
      "                <tr class='athing' id='25288757'>\n",
      "      <td align=\"right\" valign=\"top\" class=\"title\"><span class=\"rank\">13.</span></td>      <td valign=\"top\" class=\"votelinks\"><center><a id='up_25288757' href='vote?id=25288757&amp;how=up&amp;goto=news'><div class='votearrow' title='upvote'></div></a></center></td><td class=\"title\"><a href=\"https://a16z.com/2020/12/03/adding-top-down-sales-bottom-up-enterprise-startup/\" class=\"storylink\">The “$20M to $500M” Question: Adding Top Down Sales</a><span class=\"sitebit comhead\"> (<a href=\"from?site=a16z.com\"><span class=\"sitestr\">a16z.com</span></a>)</span></td></tr><tr><td colspan=\"2\"></td><td class=\"subtext\">\n",
      "        <span class=\"score\" id=\"score_25288757\">82 points</span> by <a href=\"user?id=yarapavan\" class=\"hnuser\">yarapavan</a> <span class=\"age\"><a href=\"item?id=25288757\">4 hours ago</a></span> <span id=\"unv_25288757\"></span> | <a href=\"hide?id=25288757&amp;goto=news\">hide</a> | <a href=\"item?id=25288757\">12&nbsp;comments</a>              </td></tr>\n",
      "      <tr class=\"spacer\" style=\"height:5px\"></tr>\n",
      "                <tr class='athing' id='25286678'>\n",
      "      <td align=\"right\" valign=\"top\" class=\"title\"><span class=\"rank\">14.</span></td>      <td valign=\"top\" class=\"votelinks\"><center><a id='up_25286678' href='vote?id=25286678&amp;how=up&amp;goto=news'><div class='votearrow' title='upvote'></div></a></center></td><td class=\"title\"><a href=\"https://returntonow.net/2018/01/11/7-ways-mushrooms-can-save-world/\" class=\"storylink\">Mushrooms Can Eat Plastic, Petroleum and CO2 (2018)</a><span class=\"sitebit comhead\"> (<a href=\"from?site=returntonow.net\"><span class=\"sitestr\">returntonow.net</span></a>)</span></td></tr><tr><td colspan=\"2\"></td><td class=\"subtext\">\n",
      "        <span class=\"score\" id=\"score_25286678\">338 points</span> by <a href=\"user?id=karimford\" class=\"hnuser\">karimford</a> <span class=\"age\"><a href=\"item?id=25286678\">10 hours ago</a></span> <span id=\"unv_25286678\"></span> | <a href=\"hide?id=25286678&amp;goto=news\">hide</a> | <a href=\"item?id=25286678\">249&nbsp;comments</a>              </td></tr>\n",
      "      <tr class=\"spacer\" style=\"height:5px\"></tr>\n",
      "                <tr class='athing' id='25287793'>\n",
      "      <td align=\"right\" valign=\"top\" class=\"title\"><span class=\"rank\">15.</span></td>      <td valign=\"top\" class=\"votelinks\"><center><a id='up_25287793' href='vote?id=25287793&amp;how=up&amp;goto=news'><div class='votearrow' title='upvote'></div></a></center></td><td class=\"title\"><a href=\"https://blog.timescale.com/blog/timescaledb-vs-amazon-timestream-6000x-higher-inserts-175x-faster-queries-220x-cheaper/\" class=\"storylink\">TimescaleDB vs. Amazon Timestream</a><span class=\"sitebit comhead\"> (<a href=\"from?site=timescale.com\"><span class=\"sitestr\">timescale.com</span></a>)</span></td></tr><tr><td colspan=\"2\"></td><td class=\"subtext\">\n",
      "        <span class=\"score\" id=\"score_25287793\">229 points</span> by <a href=\"user?id=daenney\" class=\"hnuser\">daenney</a> <span class=\"age\"><a href=\"item?id=25287793\">6 hours ago</a></span> <span id=\"unv_25287793\"></span> | <a href=\"hide?id=25287793&amp;goto=news\">hide</a> | <a href=\"item?id=25287793\">115&nbsp;comments</a>              </td></tr>\n",
      "      <tr class=\"spacer\" style=\"height:5px\"></tr>\n",
      "                <tr class='athing' id='25289233'>\n",
      "      <td align=\"right\" valign=\"top\" class=\"title\"><span class=\"rank\">16.</span></td>      <td valign=\"top\" class=\"votelinks\"><center><a id='up_25289233' href='vote?id=25289233&amp;how=up&amp;goto=news'><div class='votearrow' title='upvote'></div></a></center></td><td class=\"title\"><a href=\"https://supabase.io/beta\" class=\"storylink\">Supabase Beta: Auth, SQL Editor, Benchmarks</a><span class=\"sitebit comhead\"> (<a href=\"from?site=supabase.io\"><span class=\"sitestr\">supabase.io</span></a>)</span></td></tr><tr><td colspan=\"2\"></td><td class=\"subtext\">\n",
      "        <span class=\"score\" id=\"score_25289233\">29 points</span> by <a href=\"user?id=kiwicopple\" class=\"hnuser\">kiwicopple</a> <span class=\"age\"><a href=\"item?id=25289233\">1 hour ago</a></span> <span id=\"unv_25289233\"></span> | <a href=\"hide?id=25289233&amp;goto=news\">hide</a> | <a href=\"item?id=25289233\">5&nbsp;comments</a>              </td></tr>\n",
      "      <tr class=\"spacer\" style=\"height:5px\"></tr>\n",
      "                <tr class='athing' id='25290697'>\n",
      "      <td align=\"right\" valign=\"top\" class=\"title\"><span class=\"rank\">17.</span></td>      <td valign=\"top\" class=\"votelinks\"><center><a id='up_25290697' href='vote?id=25290697&amp;how=up&amp;goto=news'><div class='votearrow' title='upvote'></div></a></center></td><td class=\"title\"><a href=\"https://aws.amazon.com/rds/aurora/babelfish/\" class=\"storylink\">AWS: Run Microsoft SQL Server apps on PostgreSQL with little to no code changes</a><span class=\"sitebit comhead\"> (<a href=\"from?site=amazon.com\"><span class=\"sitestr\">amazon.com</span></a>)</span></td></tr><tr><td colspan=\"2\"></td><td class=\"subtext\">\n",
      "        <span class=\"score\" id=\"score_25290697\">19 points</span> by <a href=\"user?id=gt565k\" class=\"hnuser\">gt565k</a> <span class=\"age\"><a href=\"item?id=25290697\">1 hour ago</a></span> <span id=\"unv_25290697\"></span> | <a href=\"hide?id=25290697&amp;goto=news\">hide</a> | <a href=\"item?id=25290697\">1&nbsp;comment</a>              </td></tr>\n",
      "      <tr class=\"spacer\" style=\"height:5px\"></tr>\n",
      "                <tr class='athing' id='25288541'>\n",
      "      <td align=\"right\" valign=\"top\" class=\"title\"><span class=\"rank\">18.</span></td>      <td valign=\"top\" class=\"votelinks\"><center><a id='up_25288541' href='vote?id=25288541&amp;how=up&amp;goto=news'><div class='votearrow' title='upvote'></div></a></center></td><td class=\"title\"><a href=\"https://blog.checklyhq.com/puppeteer-vs-selenium-vs-playwright-speed-comparison/\" class=\"storylink\">Benchmark: Puppeteer vs. Selenium vs. Playwright vs. WebDriverIO</a><span class=\"sitebit comhead\"> (<a href=\"from?site=checklyhq.com\"><span class=\"sitestr\">checklyhq.com</span></a>)</span></td></tr><tr><td colspan=\"2\"></td><td class=\"subtext\">\n",
      "        <span class=\"score\" id=\"score_25288541\">72 points</span> by <a href=\"user?id=ragog\" class=\"hnuser\">ragog</a> <span class=\"age\"><a href=\"item?id=25288541\">4 hours ago</a></span> <span id=\"unv_25288541\"></span> | <a href=\"hide?id=25288541&amp;goto=news\">hide</a> | <a href=\"item?id=25288541\">13&nbsp;comments</a>              </td></tr>\n",
      "      <tr class=\"spacer\" style=\"height:5px\"></tr>\n",
      "                <tr class='athing' id='25288777'>\n",
      "      <td align=\"right\" valign=\"top\" class=\"title\"><span class=\"rank\">19.</span></td>      <td valign=\"top\" class=\"votelinks\"><center><a id='up_25288777' href='vote?id=25288777&amp;how=up&amp;goto=news'><div class='votearrow' title='upvote'></div></a></center></td><td class=\"title\"><a href=\"https://tools.ietf.org/id/draft-msporny-base58-01.html\" class=\"storylink\">The Base58 Encoding Scheme</a><span class=\"sitebit comhead\"> (<a href=\"from?site=ietf.org\"><span class=\"sitestr\">ietf.org</span></a>)</span></td></tr><tr><td colspan=\"2\"></td><td class=\"subtext\">\n",
      "        <span class=\"score\" id=\"score_25288777\">54 points</span> by <a href=\"user?id=tosh\" class=\"hnuser\">tosh</a> <span class=\"age\"><a href=\"item?id=25288777\">4 hours ago</a></span> <span id=\"unv_25288777\"></span> | <a href=\"hide?id=25288777&amp;goto=news\">hide</a> | <a href=\"item?id=25288777\">28&nbsp;comments</a>              </td></tr>\n",
      "      <tr class=\"spacer\" style=\"height:5px\"></tr>\n",
      "                <tr class='athing' id='25261403'>\n",
      "      <td align=\"right\" valign=\"top\" class=\"title\"><span class=\"rank\">20.</span></td>      <td valign=\"top\" class=\"votelinks\"><center><a id='up_25261403' href='vote?id=25261403&amp;how=up&amp;goto=news'><div class='votearrow' title='upvote'></div></a></center></td><td class=\"title\"><a href=\"https://lareviewofbooks.org/article/a-modest-proposal-for-building-the-future/?mc_cid=aaccea792f&amp;mc_eid=a6399629f3\" class=\"storylink\">A Modest Proposal for Building the Future</a><span class=\"sitebit comhead\"> (<a href=\"from?site=lareviewofbooks.org\"><span class=\"sitestr\">lareviewofbooks.org</span></a>)</span></td></tr><tr><td colspan=\"2\"></td><td class=\"subtext\">\n",
      "        <span class=\"score\" id=\"score_25261403\">8 points</span> by <a href=\"user?id=prostoalex\" class=\"hnuser\">prostoalex</a> <span class=\"age\"><a href=\"item?id=25261403\">1 hour ago</a></span> <span id=\"unv_25261403\"></span> | <a href=\"hide?id=25261403&amp;goto=news\">hide</a> | <a href=\"item?id=25261403\">1&nbsp;comment</a>              </td></tr>\n",
      "      <tr class=\"spacer\" style=\"height:5px\"></tr>\n",
      "                <tr class='athing' id='25289631'>\n",
      "      <td align=\"right\" valign=\"top\" class=\"title\"><span class=\"rank\">21.</span></td>      <td valign=\"top\" class=\"votelinks\"><center><a id='up_25289631' href='vote?id=25289631&amp;how=up&amp;goto=news'><div class='votearrow' title='upvote'></div></a></center></td><td class=\"title\"><a href=\"https://github.com/preactjs/wmr\" class=\"storylink\">Preactjs/wmr: The tiny all-in-one development tool for modern web apps</a><span class=\"sitebit comhead\"> (<a href=\"from?site=github.com/preactjs\"><span class=\"sitestr\">github.com/preactjs</span></a>)</span></td></tr><tr><td colspan=\"2\"></td><td class=\"subtext\">\n",
      "        <span class=\"score\" id=\"score_25289631\">34 points</span> by <a href=\"user?id=jviide\" class=\"hnuser\">jviide</a> <span class=\"age\"><a href=\"item?id=25289631\">2 hours ago</a></span> <span id=\"unv_25289631\"></span> | <a href=\"hide?id=25289631&amp;goto=news\">hide</a> | <a href=\"item?id=25289631\">5&nbsp;comments</a>              </td></tr>\n",
      "      <tr class=\"spacer\" style=\"height:5px\"></tr>\n",
      "                <tr class='athing' id='25261727'>\n",
      "      <td align=\"right\" valign=\"top\" class=\"title\"><span class=\"rank\">22.</span></td>      <td valign=\"top\" class=\"votelinks\"><center><a id='up_25261727' href='vote?id=25261727&amp;how=up&amp;goto=news'><div class='votearrow' title='upvote'></div></a></center></td><td class=\"title\"><a href=\"https://www.nytimes.com/2020/06/28/opinion/montaigne-plague-essays.html\" class=\"storylink\">Montaigne Fled the Plague, and Found Himself</a><span class=\"sitebit comhead\"> (<a href=\"from?site=nytimes.com\"><span class=\"sitestr\">nytimes.com</span></a>)</span></td></tr><tr><td colspan=\"2\"></td><td class=\"subtext\">\n",
      "        <span class=\"score\" id=\"score_25261727\">15 points</span> by <a href=\"user?id=pepys\" class=\"hnuser\">pepys</a> <span class=\"age\"><a href=\"item?id=25261727\">2 hours ago</a></span> <span id=\"unv_25261727\"></span> | <a href=\"hide?id=25261727&amp;goto=news\">hide</a> | <a href=\"item?id=25261727\">discuss</a>              </td></tr>\n",
      "      <tr class=\"spacer\" style=\"height:5px\"></tr>\n",
      "                <tr class='athing' id='25289921'>\n",
      "      <td align=\"right\" valign=\"top\" class=\"title\"><span class=\"rank\">23.</span></td>      <td valign=\"top\" class=\"votelinks\"><center><a id='up_25289921' href='vote?id=25289921&amp;how=up&amp;goto=news'><div class='votearrow' title='upvote'></div></a></center></td><td class=\"title\"><a href=\"https://www.nature.com/articles/s41467-020-19793-8\" class=\"storylink\">Vitamin D metabolites and the gut microbiome in older men</a><span class=\"sitebit comhead\"> (<a href=\"from?site=nature.com\"><span class=\"sitestr\">nature.com</span></a>)</span></td></tr><tr><td colspan=\"2\"></td><td class=\"subtext\">\n",
      "        <span class=\"score\" id=\"score_25289921\">52 points</span> by <a href=\"user?id=voisin\" class=\"hnuser\">voisin</a> <span class=\"age\"><a href=\"item?id=25289921\">2 hours ago</a></span> <span id=\"unv_25289921\"></span> | <a href=\"hide?id=25289921&amp;goto=news\">hide</a> | <a href=\"item?id=25289921\">27&nbsp;comments</a>              </td></tr>\n",
      "      <tr class=\"spacer\" style=\"height:5px\"></tr>\n",
      "                <tr class='athing' id='25287144'>\n",
      "      <td align=\"right\" valign=\"top\" class=\"title\"><span class=\"rank\">24.</span></td>      <td valign=\"top\" class=\"votelinks\"><center><a id='up_25287144' href='vote?id=25287144&amp;how=up&amp;goto=news'><div class='votearrow' title='upvote'></div></a></center></td><td class=\"title\"><a href=\"https://who23.github.io/2020/12/03/sockets-in-your-shell.html\" class=\"storylink\">Sockets in Your Shell</a><span class=\"sitebit comhead\"> (<a href=\"from?site=who23.github.io\"><span class=\"sitestr\">who23.github.io</span></a>)</span></td></tr><tr><td colspan=\"2\"></td><td class=\"subtext\">\n",
      "        <span class=\"score\" id=\"score_25287144\">183 points</span> by <a href=\"user?id=signa11\" class=\"hnuser\">signa11</a> <span class=\"age\"><a href=\"item?id=25287144\">8 hours ago</a></span> <span id=\"unv_25287144\"></span> | <a href=\"hide?id=25287144&amp;goto=news\">hide</a> | <a href=\"item?id=25287144\">29&nbsp;comments</a>              </td></tr>\n",
      "      <tr class=\"spacer\" style=\"height:5px\"></tr>\n",
      "                <tr class='athing' id='25291861'>\n",
      "      <td align=\"right\" valign=\"top\" class=\"title\"><span class=\"rank\">25.</span></td>      <td valign=\"top\" class=\"votelinks\"><center><a id='up_25291861' href='vote?id=25291861&amp;how=up&amp;goto=news'><div class='votearrow' title='upvote'></div></a></center></td><td class=\"title\"><a href=\"https://ph1lter.bitbucket.io/blog/2020-12-03-webasm-forth-with-lisp-syntax.html\" class=\"storylink\" rel=\"nofollow\">WebAsm: Forth with Lisp Syntax</a><span class=\"sitebit comhead\"> (<a href=\"from?site=ph1lter.bitbucket.io\"><span class=\"sitestr\">ph1lter.bitbucket.io</span></a>)</span></td></tr><tr><td colspan=\"2\"></td><td class=\"subtext\">\n",
      "        <span class=\"score\" id=\"score_25291861\">3 points</span> by <a href=\"user?id=marksmillibend\" class=\"hnuser\">marksmillibend</a> <span class=\"age\"><a href=\"item?id=25291861\">28 minutes ago</a></span> <span id=\"unv_25291861\"></span> | <a href=\"hide?id=25291861&amp;goto=news\">hide</a> | <a href=\"item?id=25291861\">1&nbsp;comment</a>              </td></tr>\n",
      "      <tr class=\"spacer\" style=\"height:5px\"></tr>\n",
      "                <tr class='athing' id='25288166'>\n",
      "      <td align=\"right\" valign=\"top\" class=\"title\"><span class=\"rank\">26.</span></td>      <td valign=\"top\" class=\"votelinks\"><center><a id='up_25288166' href='vote?id=25288166&amp;how=up&amp;goto=news'><div class='votearrow' title='upvote'></div></a></center></td><td class=\"title\"><a href=\"https://morethancoding.com/2013/03/12/ux-then-architecture-then-tools/\" class=\"storylink\">UX, Then Architecture, Then Tools</a><span class=\"sitebit comhead\"> (<a href=\"from?site=morethancoding.com\"><span class=\"sitestr\">morethancoding.com</span></a>)</span></td></tr><tr><td colspan=\"2\"></td><td class=\"subtext\">\n",
      "        <span class=\"score\" id=\"score_25288166\">52 points</span> by <a href=\"user?id=Fiveplus\" class=\"hnuser\">Fiveplus</a> <span class=\"age\"><a href=\"item?id=25288166\">5 hours ago</a></span> <span id=\"unv_25288166\"></span> | <a href=\"hide?id=25288166&amp;goto=news\">hide</a> | <a href=\"item?id=25288166\">24&nbsp;comments</a>              </td></tr>\n",
      "      <tr class=\"spacer\" style=\"height:5px\"></tr>\n",
      "                <tr class='athing' id='25288341'>\n",
      "      <td align=\"right\" valign=\"top\" class=\"title\"><span class=\"rank\">27.</span></td>      <td valign=\"top\" class=\"votelinks\"><center><a id='up_25288341' href='vote?id=25288341&amp;how=up&amp;goto=news'><div class='votearrow' title='upvote'></div></a></center></td><td class=\"title\"><a href=\"https://twitter.com/martingund/status/1334465877153095680\" class=\"storylink\">My Phone Was Spying on Me, So I Tracked Down the Surveillants</a><span class=\"sitebit comhead\"> (<a href=\"from?site=twitter.com/martingund\"><span class=\"sitestr\">twitter.com/martingund</span></a>)</span></td></tr><tr><td colspan=\"2\"></td><td class=\"subtext\">\n",
      "        <span class=\"score\" id=\"score_25288341\">359 points</span> by <a href=\"user?id=ingve\" class=\"hnuser\">ingve</a> <span class=\"age\"><a href=\"item?id=25288341\">5 hours ago</a></span> <span id=\"unv_25288341\"></span> | <a href=\"hide?id=25288341&amp;goto=news\">hide</a> | <a href=\"item?id=25288341\">108&nbsp;comments</a>              </td></tr>\n",
      "      <tr class=\"spacer\" style=\"height:5px\"></tr>\n",
      "                <tr class='athing' id='25289574'>\n",
      "      <td align=\"right\" valign=\"top\" class=\"title\"><span class=\"rank\">28.</span></td>      <td valign=\"top\" class=\"votelinks\"><center><a id='up_25289574' href='vote?id=25289574&amp;how=up&amp;goto=news'><div class='votearrow' title='upvote'></div></a></center></td><td class=\"title\"><a href=\"https://github.com/cwida/duckdb/releases/tag/v0.2.3\" class=\"storylink\">DuckDB now has a Node.js API</a><span class=\"sitebit comhead\"> (<a href=\"from?site=github.com/cwida\"><span class=\"sitestr\">github.com/cwida</span></a>)</span></td></tr><tr><td colspan=\"2\"></td><td class=\"subtext\">\n",
      "        <span class=\"score\" id=\"score_25289574\">20 points</span> by <a href=\"user?id=domoritz\" class=\"hnuser\">domoritz</a> <span class=\"age\"><a href=\"item?id=25289574\">2 hours ago</a></span> <span id=\"unv_25289574\"></span> | <a href=\"hide?id=25289574&amp;goto=news\">hide</a> | <a href=\"item?id=25289574\">2&nbsp;comments</a>              </td></tr>\n",
      "      <tr class=\"spacer\" style=\"height:5px\"></tr>\n",
      "                <tr class='athing' id='25287034'>\n",
      "      <td align=\"right\" valign=\"top\" class=\"title\"><span class=\"rank\">29.</span></td>      <td valign=\"top\" class=\"votelinks\"><center><a id='up_25287034' href='vote?id=25287034&amp;how=up&amp;goto=news'><div class='votearrow' title='upvote'></div></a></center></td><td class=\"title\"><a href=\"https://docs.google.com/forms/d/e/1FAIpQLSfg7UJRKrkI3OjOHWL4xI-murE4LpQjIxsiAhFdPEmtyLX3kg/viewanalytics\" class=\"storylink\">State of Common Lisp Survey 2020</a><span class=\"sitebit comhead\"> (<a href=\"from?site=docs.google.com\"><span class=\"sitestr\">docs.google.com</span></a>)</span></td></tr><tr><td colspan=\"2\"></td><td class=\"subtext\">\n",
      "        <span class=\"score\" id=\"score_25287034\">104 points</span> by <a href=\"user?id=michaelanckaert\" class=\"hnuser\">michaelanckaert</a> <span class=\"age\"><a href=\"item?id=25287034\">9 hours ago</a></span> <span id=\"unv_25287034\"></span> | <a href=\"hide?id=25287034&amp;goto=news\">hide</a> | <a href=\"item?id=25287034\">45&nbsp;comments</a>              </td></tr>\n",
      "      <tr class=\"spacer\" style=\"height:5px\"></tr>\n",
      "                <tr class='athing' id='25287977'>\n",
      "      <td align=\"right\" valign=\"top\" class=\"title\"><span class=\"rank\">30.</span></td>      <td valign=\"top\" class=\"votelinks\"><center><a id='up_25287977' href='vote?id=25287977&amp;how=up&amp;goto=news'><div class='votearrow' title='upvote'></div></a></center></td><td class=\"title\"><a href=\"https://github.com/siemens/jailhouse\" class=\"storylink\">Jailhouse: Linux-Based Partitioning Hypervisor</a><span class=\"sitebit comhead\"> (<a href=\"from?site=github.com/siemens\"><span class=\"sitestr\">github.com/siemens</span></a>)</span></td></tr><tr><td colspan=\"2\"></td><td class=\"subtext\">\n",
      "        <span class=\"score\" id=\"score_25287977\">39 points</span> by <a href=\"user?id=varbhat\" class=\"hnuser\">varbhat</a> <span class=\"age\"><a href=\"item?id=25287977\">6 hours ago</a></span> <span id=\"unv_25287977\"></span> | <a href=\"hide?id=25287977&amp;goto=news\">hide</a> | <a href=\"item?id=25287977\">2&nbsp;comments</a>              </td></tr>\n",
      "      <tr class=\"spacer\" style=\"height:5px\"></tr>\n",
      "            <tr class=\"morespace\" style=\"height:10px\"></tr><tr><td colspan=\"2\"></td><td class=\"title\"><a href=\"news?p=2\" class=\"morelink\" rel=\"next\">More</a></td></tr>\n",
      "  </table>\n",
      "</td></tr>\n",
      "<tr><td><img src=\"s.gif\" height=\"10\" width=\"0\"><table width=\"100%\" cellspacing=\"0\" cellpadding=\"1\"><tr><td bgcolor=\"#ff6600\"></td></tr></table><br><center><span class=\"yclinks\"><a href=\"newsguidelines.html\">Guidelines</a>\n",
      "        | <a href=\"newsfaq.html\">FAQ</a>\n",
      "        | <a href=\"lists\">Lists</a>\n",
      "        | <a href=\"https://github.com/HackerNews/API\">API</a>\n",
      "        | <a href=\"security.html\">Security</a>\n",
      "        | <a href=\"http://www.ycombinator.com/legal/\">Legal</a>\n",
      "        | <a href=\"http://www.ycombinator.com/apply/\">Apply to YC</a>\n",
      "        | <a href=\"mailto:hn@ycombinator.com\">Contact</a></span><br><br><form method=\"get\" action=\"//hn.algolia.com/\">Search:\n",
      "          <input type=\"text\" name=\"q\" value=\"\" size=\"17\" autocorrect=\"off\" spellcheck=\"false\" autocapitalize=\"off\" autocomplete=\"false\"></form>\n",
      "            </center></td></tr>\n",
      "      </table></center></body><script type='text/javascript' src='hn.js?jQhI4QM59GzYU3FIHxj3'></script></html>\n",
      "\n"
     ]
    }
   ],
   "source": [
    "import requests\n",
    "\n",
    "# Fetch a web page\n",
    "r = requests.get(\"https://news.ycombinator.com\")\n",
    "print(r.text)"
   ]
  },
  {
   "cell_type": "code",
   "execution_count": 8,
   "metadata": {},
   "outputs": [
    {
     "name": "stdout",
     "output_type": "stream",
     "text": [
      "\n",
      "        \n",
      "          \n",
      "        Hacker News\n",
      "        \n",
      "                  Hacker News\n",
      "              new | past | comments | ask | show | jobs | submit            \n",
      "                              login\n",
      "                          \n",
      "              \n",
      "\n",
      "              \n",
      "      1.      Stripe Treasury (stripe.com)\n",
      "        300 points by timf 2 hours ago  | hide | 92&nbsp;comments              \n",
      "      \n",
      "                \n",
      "      2.      S&P Dow Jones Indices to launch cryptocurrency indexes in 2021 (reuters.com)\n",
      "        223 points by awb 3 hours ago  | hide | 173&nbsp;comments              \n",
      "      \n",
      "                \n",
      "      3.      Computer input latency from 1977-2017 (2017) (danluu.com)\n",
      "        133 points by thesephist 2 hours ago  | hide | 55&nbsp;comments              \n",
      "      \n",
      "                \n",
      "      4.      Drone Footage of Arecibo Observatory Collapse (nsf.gov)\n",
      "        120 points by uptown 1 hour ago  | hide | 29&nbsp;comments              \n",
      "      \n",
      "                \n",
      "      5.      AWS just went multi-cloud and it's only the beginning – A Cloud Guru (acloudguru.com)\n",
      "        114 points by dwardu 3 hours ago  | hide | 72&nbsp;comments              \n",
      "      \n",
      "                \n",
      "      6.      Long-acting injectable is effective in preventing HIV acquisition in women (who.int)\n",
      "        73 points by _Microft 3 hours ago  | hide | 7&nbsp;comments              \n",
      "      \n",
      "                \n",
      "      7.      Stored Procedures as a Back End (gnuhost.medium.com)\n",
      "        48 points by steve-chavez 1 hour ago  | hide | 30&nbsp;comments              \n",
      "      \n",
      "                \n",
      "      8.      OneSignal is hiring a Back end Engineer interested in writing in Go and Rust (onesignal.com)\n",
      "        1 hour ago | hide      \n",
      "      \n",
      "                \n",
      "      9.      Amazon reportedly has Pinkerton agents surveil workers who try to form unions (npr.org)\n",
      "        466 points by pdkl95 2 hours ago  | hide | 234&nbsp;comments              \n",
      "      \n",
      "                \n",
      "      10.      Unreal Engine 4.26 now available (unrealengine.com)\n",
      "        41 points by dagmx 1 hour ago  | hide | 34&nbsp;comments              \n",
      "      \n",
      "                \n",
      "      11.      Colombia is considering legalizing its cocaine industry (vice.com)\n",
      "        208 points by prostoalex 2 hours ago  | hide | 160&nbsp;comments              \n",
      "      \n",
      "                \n",
      "      12.      Futures explained in 200 lines of Rust (cfsamson.github.io)\n",
      "        25 points by fanf2 1 hour ago  | hide | 2&nbsp;comments              \n",
      "      \n",
      "                \n",
      "      13.      The “$20M to $500M” Question: Adding Top Down Sales (a16z.com)\n",
      "        82 points by yarapavan 4 hours ago  | hide | 12&nbsp;comments              \n",
      "      \n",
      "                \n",
      "      14.      Mushrooms Can Eat Plastic, Petroleum and CO2 (2018) (returntonow.net)\n",
      "        338 points by karimford 10 hours ago  | hide | 249&nbsp;comments              \n",
      "      \n",
      "                \n",
      "      15.      TimescaleDB vs. Amazon Timestream (timescale.com)\n",
      "        229 points by daenney 6 hours ago  | hide | 115&nbsp;comments              \n",
      "      \n",
      "                \n",
      "      16.      Supabase Beta: Auth, SQL Editor, Benchmarks (supabase.io)\n",
      "        29 points by kiwicopple 1 hour ago  | hide | 5&nbsp;comments              \n",
      "      \n",
      "                \n",
      "      17.      AWS: Run Microsoft SQL Server apps on PostgreSQL with little to no code changes (amazon.com)\n",
      "        19 points by gt565k 1 hour ago  | hide | 1&nbsp;comment              \n",
      "      \n",
      "                \n",
      "      18.      Benchmark: Puppeteer vs. Selenium vs. Playwright vs. WebDriverIO (checklyhq.com)\n",
      "        72 points by ragog 4 hours ago  | hide | 13&nbsp;comments              \n",
      "      \n",
      "                \n",
      "      19.      The Base58 Encoding Scheme (ietf.org)\n",
      "        54 points by tosh 4 hours ago  | hide | 28&nbsp;comments              \n",
      "      \n",
      "                \n",
      "      20.      A Modest Proposal for Building the Future (lareviewofbooks.org)\n",
      "        8 points by prostoalex 1 hour ago  | hide | 1&nbsp;comment              \n",
      "      \n",
      "                \n",
      "      21.      Preactjs/wmr: The tiny all-in-one development tool for modern web apps (github.com/preactjs)\n",
      "        34 points by jviide 2 hours ago  | hide | 5&nbsp;comments              \n",
      "      \n",
      "                \n",
      "      22.      Montaigne Fled the Plague, and Found Himself (nytimes.com)\n",
      "        15 points by pepys 2 hours ago  | hide | discuss              \n",
      "      \n",
      "                \n",
      "      23.      Vitamin D metabolites and the gut microbiome in older men (nature.com)\n",
      "        52 points by voisin 2 hours ago  | hide | 27&nbsp;comments              \n",
      "      \n",
      "                \n",
      "      24.      Sockets in Your Shell (who23.github.io)\n",
      "        183 points by signa11 8 hours ago  | hide | 29&nbsp;comments              \n",
      "      \n",
      "                \n",
      "      25.      WebAsm: Forth with Lisp Syntax (ph1lter.bitbucket.io)\n",
      "        3 points by marksmillibend 28 minutes ago  | hide | 1&nbsp;comment              \n",
      "      \n",
      "                \n",
      "      26.      UX, Then Architecture, Then Tools (morethancoding.com)\n",
      "        52 points by Fiveplus 5 hours ago  | hide | 24&nbsp;comments              \n",
      "      \n",
      "                \n",
      "      27.      My Phone Was Spying on Me, So I Tracked Down the Surveillants (twitter.com/martingund)\n",
      "        359 points by ingve 5 hours ago  | hide | 108&nbsp;comments              \n",
      "      \n",
      "                \n",
      "      28.      DuckDB now has a Node.js API (github.com/cwida)\n",
      "        20 points by domoritz 2 hours ago  | hide | 2&nbsp;comments              \n",
      "      \n",
      "                \n",
      "      29.      State of Common Lisp Survey 2020 (docs.google.com)\n",
      "        104 points by michaelanckaert 9 hours ago  | hide | 45&nbsp;comments              \n",
      "      \n",
      "                \n",
      "      30.      Jailhouse: Linux-Based Partitioning Hypervisor (github.com/siemens)\n",
      "        39 points by varbhat 6 hours ago  | hide | 2&nbsp;comments              \n",
      "      \n",
      "            More\n",
      "  \n",
      "\n",
      "Guidelines\n",
      "        | FAQ\n",
      "        | Lists\n",
      "        | API\n",
      "        | Security\n",
      "        | Legal\n",
      "        | Apply to YC\n",
      "        | ContactSearch:\n",
      "          \n",
      "            \n",
      "      \n",
      "\n"
     ]
    }
   ],
   "source": [
    "import re\n",
    "\n",
    "# Remove HTML tags using RegEx\n",
    "pattern = re.compile(r'<.*?>')  # tags look like <...>\n",
    "print(pattern.sub('', r.text))  # replace them with blank"
   ]
  },
  {
   "cell_type": "code",
   "execution_count": 9,
   "metadata": {},
   "outputs": [
    {
     "name": "stdout",
     "output_type": "stream",
     "text": [
      "\n",
      "        \n",
      "          \n",
      "        Hacker News\n",
      "        \n",
      "                  Hacker News\n",
      "              new | past | comments | ask | show | jobs | submit            \n",
      "                              login\n",
      "                          \n",
      "              \n",
      "\n",
      "              \n",
      "      1.      Stripe Treasury (stripe.com)\n",
      "        300 points by timf 2 hours ago  | hide | 92 comments              \n",
      "      \n",
      "                \n",
      "      2.      S&P Dow Jones Indices to launch cryptocurrency indexes in 2021 (reuters.com)\n",
      "        223 points by awb 3 hours ago  | hide | 173 comments              \n",
      "      \n",
      "                \n",
      "      3.      Computer input latency from 1977-2017 (2017) (danluu.com)\n",
      "        133 points by thesephist 2 hours ago  | hide | 55 comments              \n",
      "      \n",
      "                \n",
      "      4.      Drone Footage of Arecibo Observatory Collapse (nsf.gov)\n",
      "        120 points by uptown 1 hour ago  | hide | 29 comments              \n",
      "      \n",
      "                \n",
      "      5.      AWS just went multi-cloud and it's only the beginning – A Cloud Guru (acloudguru.com)\n",
      "        114 points by dwardu 3 hours ago  | hide | 72 comments              \n",
      "      \n",
      "                \n",
      "      6.      Long-acting injectable is effective in preventing HIV acquisition in women (who.int)\n",
      "        73 points by _Microft 3 hours ago  | hide | 7 comments              \n",
      "      \n",
      "                \n",
      "      7.      Stored Procedures as a Back End (gnuhost.medium.com)\n",
      "        48 points by steve-chavez 1 hour ago  | hide | 30 comments              \n",
      "      \n",
      "                \n",
      "      8.      OneSignal is hiring a Back end Engineer interested in writing in Go and Rust (onesignal.com)\n",
      "        1 hour ago | hide      \n",
      "      \n",
      "                \n",
      "      9.      Amazon reportedly has Pinkerton agents surveil workers who try to form unions (npr.org)\n",
      "        466 points by pdkl95 2 hours ago  | hide | 234 comments              \n",
      "      \n",
      "                \n",
      "      10.      Unreal Engine 4.26 now available (unrealengine.com)\n",
      "        41 points by dagmx 1 hour ago  | hide | 34 comments              \n",
      "      \n",
      "                \n",
      "      11.      Colombia is considering legalizing its cocaine industry (vice.com)\n",
      "        208 points by prostoalex 2 hours ago  | hide | 160 comments              \n",
      "      \n",
      "                \n",
      "      12.      Futures explained in 200 lines of Rust (cfsamson.github.io)\n",
      "        25 points by fanf2 1 hour ago  | hide | 2 comments              \n",
      "      \n",
      "                \n",
      "      13.      The “$20M to $500M” Question: Adding Top Down Sales (a16z.com)\n",
      "        82 points by yarapavan 4 hours ago  | hide | 12 comments              \n",
      "      \n",
      "                \n",
      "      14.      Mushrooms Can Eat Plastic, Petroleum and CO2 (2018) (returntonow.net)\n",
      "        338 points by karimford 10 hours ago  | hide | 249 comments              \n",
      "      \n",
      "                \n",
      "      15.      TimescaleDB vs. Amazon Timestream (timescale.com)\n",
      "        229 points by daenney 6 hours ago  | hide | 115 comments              \n",
      "      \n",
      "                \n",
      "      16.      Supabase Beta: Auth, SQL Editor, Benchmarks (supabase.io)\n",
      "        29 points by kiwicopple 1 hour ago  | hide | 5 comments              \n",
      "      \n",
      "                \n",
      "      17.      AWS: Run Microsoft SQL Server apps on PostgreSQL with little to no code changes (amazon.com)\n",
      "        19 points by gt565k 1 hour ago  | hide | 1 comment              \n",
      "      \n",
      "                \n",
      "      18.      Benchmark: Puppeteer vs. Selenium vs. Playwright vs. WebDriverIO (checklyhq.com)\n",
      "        72 points by ragog 4 hours ago  | hide | 13 comments              \n",
      "      \n",
      "                \n",
      "      19.      The Base58 Encoding Scheme (ietf.org)\n",
      "        54 points by tosh 4 hours ago  | hide | 28 comments              \n",
      "      \n",
      "                \n",
      "      20.      A Modest Proposal for Building the Future (lareviewofbooks.org)\n",
      "        8 points by prostoalex 1 hour ago  | hide | 1 comment              \n",
      "      \n",
      "                \n",
      "      21.      Preactjs/wmr: The tiny all-in-one development tool for modern web apps (github.com/preactjs)\n",
      "        34 points by jviide 2 hours ago  | hide | 5 comments              \n",
      "      \n",
      "                \n",
      "      22.      Montaigne Fled the Plague, and Found Himself (nytimes.com)\n",
      "        15 points by pepys 2 hours ago  | hide | discuss              \n",
      "      \n",
      "                \n",
      "      23.      Vitamin D metabolites and the gut microbiome in older men (nature.com)\n",
      "        52 points by voisin 2 hours ago  | hide | 27 comments              \n",
      "      \n",
      "                \n",
      "      24.      Sockets in Your Shell (who23.github.io)\n",
      "        183 points by signa11 8 hours ago  | hide | 29 comments              \n",
      "      \n",
      "                \n",
      "      25.      WebAsm: Forth with Lisp Syntax (ph1lter.bitbucket.io)\n",
      "        3 points by marksmillibend 28 minutes ago  | hide | 1 comment              \n",
      "      \n",
      "                \n",
      "      26.      UX, Then Architecture, Then Tools (morethancoding.com)\n",
      "        52 points by Fiveplus 5 hours ago  | hide | 24 comments              \n",
      "      \n",
      "                \n",
      "      27.      My Phone Was Spying on Me, So I Tracked Down the Surveillants (twitter.com/martingund)\n",
      "        359 points by ingve 5 hours ago  | hide | 108 comments              \n",
      "      \n",
      "                \n",
      "      28.      DuckDB now has a Node.js API (github.com/cwida)\n",
      "        20 points by domoritz 2 hours ago  | hide | 2 comments              \n",
      "      \n",
      "                \n",
      "      29.      State of Common Lisp Survey 2020 (docs.google.com)\n",
      "        104 points by michaelanckaert 9 hours ago  | hide | 45 comments              \n",
      "      \n",
      "                \n",
      "      30.      Jailhouse: Linux-Based Partitioning Hypervisor (github.com/siemens)\n",
      "        39 points by varbhat 6 hours ago  | hide | 2 comments              \n",
      "      \n",
      "            More\n",
      "  \n",
      "\n",
      "Guidelines\n",
      "        | FAQ\n",
      "        | Lists\n",
      "        | API\n",
      "        | Security\n",
      "        | Legal\n",
      "        | Apply to YC\n",
      "        | ContactSearch:\n",
      "          \n",
      "            \n",
      "      \n",
      "\n"
     ]
    }
   ],
   "source": [
    "from bs4 import BeautifulSoup\n",
    "\n",
    "# Remove HTML tags using Beautiful Soup library\n",
    "soup = BeautifulSoup(r.text, \"html5lib\")\n",
    "print(soup.get_text())"
   ]
  },
  {
   "cell_type": "code",
   "execution_count": 10,
   "metadata": {
    "scrolled": true
   },
   "outputs": [
    {
     "data": {
      "text/plain": [
       "<tr class=\"athing\" id=\"25289626\">\n",
       "      <td align=\"right\" class=\"title\" valign=\"top\"><span class=\"rank\">1.</span></td>      <td class=\"votelinks\" valign=\"top\"><center><a href=\"vote?id=25289626&amp;how=up&amp;goto=news\" id=\"up_25289626\"><div class=\"votearrow\" title=\"upvote\"></div></a></center></td><td class=\"title\"><a class=\"storylink\" href=\"https://stripe.com/treasury\">Stripe Treasury</a><span class=\"sitebit comhead\"> (<a href=\"from?site=stripe.com\"><span class=\"sitestr\">stripe.com</span></a>)</span></td></tr>"
      ]
     },
     "execution_count": 10,
     "metadata": {},
     "output_type": "execute_result"
    }
   ],
   "source": [
    "# Find all articles\n",
    "summaries = soup.find_all(\"tr\", class_=\"athing\")\n",
    "summaries[0]"
   ]
  },
  {
   "cell_type": "code",
   "execution_count": 11,
   "metadata": {},
   "outputs": [
    {
     "data": {
      "text/plain": [
       "'Stripe Treasury'"
      ]
     },
     "execution_count": 11,
     "metadata": {},
     "output_type": "execute_result"
    }
   ],
   "source": [
    "# Extract title\n",
    "summaries[0].find(\"a\", class_=\"storylink\").get_text().strip()"
   ]
  },
  {
   "cell_type": "code",
   "execution_count": 12,
   "metadata": {},
   "outputs": [
    {
     "name": "stdout",
     "output_type": "stream",
     "text": [
      "30 Article summaries found. Sample:\n",
      "Stripe Treasury\n"
     ]
    }
   ],
   "source": [
    "# Find all articles, extract titles\n",
    "articles = []\n",
    "summaries = soup.find_all(\"tr\", class_=\"athing\")\n",
    "for summary in summaries:\n",
    "    title = summary.find(\"a\", class_=\"storylink\").get_text().strip()\n",
    "    articles.append((title))\n",
    "\n",
    "print(len(articles), \"Article summaries found. Sample:\")\n",
    "print(articles[0])"
   ]
  },
  {
   "cell_type": "markdown",
   "metadata": {
    "collapsed": true
   },
   "source": [
    "## Normalization"
   ]
  },
  {
   "cell_type": "markdown",
   "metadata": {},
   "source": [
    "### Case Normalization"
   ]
  },
  {
   "cell_type": "code",
   "execution_count": 13,
   "metadata": {},
   "outputs": [
    {
     "name": "stdout",
     "output_type": "stream",
     "text": [
      "The first time you see The Second Renaissance it may look boring. Look at it at least twice and definitely watch part 2. It will change your view of the matrix. Are the human people the ones who started the war ? Is AI a bad thing ?\n"
     ]
    }
   ],
   "source": [
    "# Sample text\n",
    "text = \"The first time you see The Second Renaissance it may look boring. Look at it at least twice and definitely watch part 2. It will change your view of the matrix. Are the human people the ones who started the war ? Is AI a bad thing ?\"\n",
    "print(text)"
   ]
  },
  {
   "cell_type": "code",
   "execution_count": 14,
   "metadata": {},
   "outputs": [
    {
     "name": "stdout",
     "output_type": "stream",
     "text": [
      "the first time you see the second renaissance it may look boring. look at it at least twice and definitely watch part 2. it will change your view of the matrix. are the human people the ones who started the war ? is ai a bad thing ?\n"
     ]
    }
   ],
   "source": [
    "# Convert to lowercase\n",
    "text = text.lower() \n",
    "print(text)"
   ]
  },
  {
   "cell_type": "markdown",
   "metadata": {},
   "source": [
    "### Punctuation Removal"
   ]
  },
  {
   "cell_type": "code",
   "execution_count": 15,
   "metadata": {},
   "outputs": [
    {
     "name": "stdout",
     "output_type": "stream",
     "text": [
      "the first time you see the second renaissance it may look boring  look at it at least twice and definitely watch part 2  it will change your view of the matrix  are the human people the ones who started the war   is ai a bad thing  \n"
     ]
    }
   ],
   "source": [
    "import re\n",
    "\n",
    "# Remove punctuation characters\n",
    "text = re.sub(r\"[^a-zA-Z0-9]\", \" \", text) \n",
    "print(text)"
   ]
  },
  {
   "cell_type": "markdown",
   "metadata": {},
   "source": [
    "## Tokenization"
   ]
  },
  {
   "cell_type": "code",
   "execution_count": 16,
   "metadata": {},
   "outputs": [
    {
     "name": "stdout",
     "output_type": "stream",
     "text": [
      "['the', 'first', 'time', 'you', 'see', 'the', 'second', 'renaissance', 'it', 'may', 'look', 'boring', 'look', 'at', 'it', 'at', 'least', 'twice', 'and', 'definitely', 'watch', 'part', '2', 'it', 'will', 'change', 'your', 'view', 'of', 'the', 'matrix', 'are', 'the', 'human', 'people', 'the', 'ones', 'who', 'started', 'the', 'war', 'is', 'ai', 'a', 'bad', 'thing']\n"
     ]
    }
   ],
   "source": [
    "# Split text into tokens (words)\n",
    "words = text.split()\n",
    "print(words)"
   ]
  },
  {
   "cell_type": "markdown",
   "metadata": {},
   "source": [
    "### NLTK: Natural Language ToolKit"
   ]
  },
  {
   "cell_type": "code",
   "execution_count": 17,
   "metadata": {},
   "outputs": [],
   "source": [
    "import os\n",
    "import nltk\n",
    "nltk.data.path.append(os.path.join(os.getcwd(), \"nltk_data\"))"
   ]
  },
  {
   "cell_type": "code",
   "execution_count": 18,
   "metadata": {},
   "outputs": [
    {
     "name": "stdout",
     "output_type": "stream",
     "text": [
      "Dr. Smith graduated from the University of Washington. He later started an analytics firm called Lux, which catered to enterprise customers.\n"
     ]
    }
   ],
   "source": [
    "# Another sample text\n",
    "text = \"Dr. Smith graduated from the University of Washington. He later started an analytics firm called Lux, which catered to enterprise customers.\"\n",
    "print(text)"
   ]
  },
  {
   "cell_type": "code",
   "execution_count": 19,
   "metadata": {},
   "outputs": [
    {
     "name": "stdout",
     "output_type": "stream",
     "text": [
      "['Dr.', 'Smith', 'graduated', 'from', 'the', 'University', 'of', 'Washington', '.', 'He', 'later', 'started', 'an', 'analytics', 'firm', 'called', 'Lux', ',', 'which', 'catered', 'to', 'enterprise', 'customers', '.']\n"
     ]
    }
   ],
   "source": [
    "from nltk.tokenize import word_tokenize\n",
    "\n",
    "# Split text into words using NLTK\n",
    "words = word_tokenize(text)\n",
    "print(words)"
   ]
  },
  {
   "cell_type": "code",
   "execution_count": 20,
   "metadata": {},
   "outputs": [
    {
     "name": "stdout",
     "output_type": "stream",
     "text": [
      "['Dr. Smith graduated from the University of Washington.', 'He later started an analytics firm called Lux, which catered to enterprise customers.']\n"
     ]
    }
   ],
   "source": [
    "from nltk.tokenize import sent_tokenize\n",
    "\n",
    "# Split text into sentences\n",
    "sentences = sent_tokenize(text)\n",
    "print(sentences)"
   ]
  },
  {
   "cell_type": "code",
   "execution_count": 21,
   "metadata": {},
   "outputs": [
    {
     "name": "stdout",
     "output_type": "stream",
     "text": [
      "['i', 'me', 'my', 'myself', 'we', 'our', 'ours', 'ourselves', 'you', \"you're\", \"you've\", \"you'll\", \"you'd\", 'your', 'yours', 'yourself', 'yourselves', 'he', 'him', 'his', 'himself', 'she', \"she's\", 'her', 'hers', 'herself', 'it', \"it's\", 'its', 'itself', 'they', 'them', 'their', 'theirs', 'themselves', 'what', 'which', 'who', 'whom', 'this', 'that', \"that'll\", 'these', 'those', 'am', 'is', 'are', 'was', 'were', 'be', 'been', 'being', 'have', 'has', 'had', 'having', 'do', 'does', 'did', 'doing', 'a', 'an', 'the', 'and', 'but', 'if', 'or', 'because', 'as', 'until', 'while', 'of', 'at', 'by', 'for', 'with', 'about', 'against', 'between', 'into', 'through', 'during', 'before', 'after', 'above', 'below', 'to', 'from', 'up', 'down', 'in', 'out', 'on', 'off', 'over', 'under', 'again', 'further', 'then', 'once', 'here', 'there', 'when', 'where', 'why', 'how', 'all', 'any', 'both', 'each', 'few', 'more', 'most', 'other', 'some', 'such', 'no', 'nor', 'not', 'only', 'own', 'same', 'so', 'than', 'too', 'very', 's', 't', 'can', 'will', 'just', 'don', \"don't\", 'should', \"should've\", 'now', 'd', 'll', 'm', 'o', 're', 've', 'y', 'ain', 'aren', \"aren't\", 'couldn', \"couldn't\", 'didn', \"didn't\", 'doesn', \"doesn't\", 'hadn', \"hadn't\", 'hasn', \"hasn't\", 'haven', \"haven't\", 'isn', \"isn't\", 'ma', 'mightn', \"mightn't\", 'mustn', \"mustn't\", 'needn', \"needn't\", 'shan', \"shan't\", 'shouldn', \"shouldn't\", 'wasn', \"wasn't\", 'weren', \"weren't\", 'won', \"won't\", 'wouldn', \"wouldn't\"]\n"
     ]
    }
   ],
   "source": [
    "# List stop words\n",
    "from nltk.corpus import stopwords\n",
    "print(stopwords.words(\"english\"))"
   ]
  },
  {
   "cell_type": "code",
   "execution_count": 22,
   "metadata": {},
   "outputs": [
    {
     "name": "stdout",
     "output_type": "stream",
     "text": [
      "['the', 'first', 'time', 'you', 'see', 'the', 'second', 'renaissance', 'it', 'may', 'look', 'boring', 'look', 'at', 'it', 'at', 'least', 'twice', 'and', 'definitely', 'watch', 'part', '2', 'it', 'will', 'change', 'your', 'view', 'of', 'the', 'matrix', 'are', 'the', 'human', 'people', 'the', 'ones', 'who', 'started', 'the', 'war', 'is', 'ai', 'a', 'bad', 'thing']\n"
     ]
    }
   ],
   "source": [
    "# Reset text\n",
    "text = \"The first time you see The Second Renaissance it may look boring. Look at it at least twice and definitely watch part 2. It will change your view of the matrix. Are the human people the ones who started the war ? Is AI a bad thing ?\"\n",
    "\n",
    "# Normalize it\n",
    "text = re.sub(r\"[^a-zA-Z0-9]\", \" \", text.lower())\n",
    "\n",
    "# Tokenize it\n",
    "words = text.split()\n",
    "print(words)"
   ]
  },
  {
   "cell_type": "code",
   "execution_count": 23,
   "metadata": {},
   "outputs": [
    {
     "name": "stdout",
     "output_type": "stream",
     "text": [
      "['first', 'time', 'see', 'second', 'renaissance', 'may', 'look', 'boring', 'look', 'least', 'twice', 'definitely', 'watch', 'part', '2', 'change', 'view', 'matrix', 'human', 'people', 'ones', 'started', 'war', 'ai', 'bad', 'thing']\n"
     ]
    }
   ],
   "source": [
    "# Remove stop words\n",
    "words = [w for w in words if w not in stopwords.words(\"english\")]\n",
    "print(words)"
   ]
  },
  {
   "cell_type": "markdown",
   "metadata": {},
   "source": [
    "### Sentence Parsing"
   ]
  },
  {
   "cell_type": "code",
   "execution_count": 24,
   "metadata": {},
   "outputs": [
    {
     "name": "stdout",
     "output_type": "stream",
     "text": [
      "(S\n",
      "  (NP I)\n",
      "  (VP\n",
      "    (VP (V shot) (NP (Det an) (N elephant)))\n",
      "    (PP (P in) (NP (Det my) (N pajamas)))))\n",
      "(S\n",
      "  (NP I)\n",
      "  (VP\n",
      "    (V shot)\n",
      "    (NP (Det an) (N elephant) (PP (P in) (NP (Det my) (N pajamas))))))\n"
     ]
    }
   ],
   "source": [
    "import nltk\n",
    "\n",
    "# Define a custom grammar\n",
    "my_grammar = nltk.CFG.fromstring(\"\"\"\n",
    "S -> NP VP\n",
    "PP -> P NP\n",
    "NP -> Det N | Det N PP | 'I'\n",
    "VP -> V NP | VP PP\n",
    "Det -> 'an' | 'my'\n",
    "N -> 'elephant' | 'pajamas'\n",
    "V -> 'shot'\n",
    "P -> 'in'\n",
    "\"\"\")\n",
    "parser = nltk.ChartParser(my_grammar)\n",
    "\n",
    "# Parse a sentence\n",
    "sentence = word_tokenize(\"I shot an elephant in my pajamas\")\n",
    "for tree in parser.parse(sentence):\n",
    "    print(tree)"
   ]
  },
  {
   "cell_type": "markdown",
   "metadata": {},
   "source": [
    "## Stemming & Lemmatization\n",
    "\n",
    "### Stemming"
   ]
  },
  {
   "cell_type": "code",
   "execution_count": 25,
   "metadata": {},
   "outputs": [
    {
     "name": "stdout",
     "output_type": "stream",
     "text": [
      "['first', 'time', 'see', 'second', 'renaiss', 'may', 'look', 'bore', 'look', 'least', 'twice', 'definit', 'watch', 'part', '2', 'chang', 'view', 'matrix', 'human', 'peopl', 'one', 'start', 'war', 'ai', 'bad', 'thing']\n"
     ]
    }
   ],
   "source": [
    "from nltk.stem.porter import PorterStemmer\n",
    "\n",
    "# Reduce words to their stems\n",
    "stemmed = [PorterStemmer().stem(w) for w in words]\n",
    "print(stemmed)"
   ]
  },
  {
   "cell_type": "markdown",
   "metadata": {},
   "source": [
    "### Lemmatization"
   ]
  },
  {
   "cell_type": "code",
   "execution_count": null,
   "metadata": {},
   "outputs": [],
   "source": [
    "from nltk.stem.wordnet import WordNetLemmatizer\n",
    "\n",
    "# Reduce words to their root form\n",
    "lemmed = [WordNetLemmatizer().lemmatize(w) for w in words]\n",
    "print(lemmed)"
   ]
  },
  {
   "cell_type": "code",
   "execution_count": null,
   "metadata": {},
   "outputs": [],
   "source": [
    "# Lemmatize verbs by specifying pos\n",
    "lemmed = [WordNetLemmatizer().lemmatize(w, pos='v') for w in lemmed]\n",
    "print(lemmed)"
   ]
  },
  {
   "cell_type": "code",
   "execution_count": null,
   "metadata": {},
   "outputs": [],
   "source": []
  }
 ],
 "metadata": {
  "kernelspec": {
   "display_name": "Python 3",
   "language": "python",
   "name": "python3"
  },
  "language_info": {
   "codemirror_mode": {
    "name": "ipython",
    "version": 3
   },
   "file_extension": ".py",
   "mimetype": "text/x-python",
   "name": "python",
   "nbconvert_exporter": "python",
   "pygments_lexer": "ipython3",
   "version": "3.6.3"
  }
 },
 "nbformat": 4,
 "nbformat_minor": 2
}
